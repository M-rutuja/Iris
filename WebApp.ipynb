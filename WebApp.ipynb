{
 "cells": [
  {
   "cell_type": "code",
   "execution_count": 5,
   "id": "240ebfe3-6d65-411d-91ad-d2ba08bf65d4",
   "metadata": {},
   "outputs": [
    {
     "ename": "NameError",
     "evalue": "name 'log_model' is not defined",
     "output_type": "error",
     "traceback": [
      "\u001b[1;31m---------------------------------------------------------------------------\u001b[0m",
      "\u001b[1;31mNameError\u001b[0m                                 Traceback (most recent call last)",
      "Cell \u001b[1;32mIn[5], line 4\u001b[0m\n\u001b[0;32m      2\u001b[0m \u001b[38;5;28;01mimport\u001b[39;00m \u001b[38;5;21;01mnumpy\u001b[39;00m \u001b[38;5;28;01mas\u001b[39;00m \u001b[38;5;21;01mnp\u001b[39;00m\n\u001b[0;32m      3\u001b[0m \u001b[38;5;28;01mimport\u001b[39;00m \u001b[38;5;21;01mpickle\u001b[39;00m\n\u001b[1;32m----> 4\u001b[0m pickle\u001b[38;5;241m.\u001b[39mdump(\u001b[43mlog_model\u001b[49m,\u001b[38;5;28mopen\u001b[39m(\u001b[38;5;124m'\u001b[39m\u001b[38;5;124mlog_model.pkl\u001b[39m\u001b[38;5;124m'\u001b[39m,\u001b[38;5;124m'\u001b[39m\u001b[38;5;124mwb\u001b[39m\u001b[38;5;124m'\u001b[39m))\n\u001b[0;32m      5\u001b[0m pickle\u001b[38;5;241m.\u001b[39mdump(dec_model,\u001b[38;5;28mopen\u001b[39m(\u001b[38;5;124m'\u001b[39m\u001b[38;5;124mdec_model.pkl\u001b[39m\u001b[38;5;124m'\u001b[39m,\u001b[38;5;124m'\u001b[39m\u001b[38;5;124mwb\u001b[39m\u001b[38;5;124m'\u001b[39m))\n\u001b[0;32m      8\u001b[0m log_model \u001b[38;5;241m=\u001b[39m pickle\u001b[38;5;241m.\u001b[39mload(\u001b[38;5;28mopen\u001b[39m(\u001b[38;5;124m'\u001b[39m\u001b[38;5;124mlog_model.pkl\u001b[39m\u001b[38;5;124m'\u001b[39m,\u001b[38;5;124m'\u001b[39m\u001b[38;5;124mrb\u001b[39m\u001b[38;5;124m'\u001b[39m))\n",
      "\u001b[1;31mNameError\u001b[0m: name 'log_model' is not defined"
     ]
    }
   ],
   "source": [
    "import streamlit as st\n",
    "import numpy as np\n",
    "import pickle\n",
    "pickle.dump(log_model,open('log_model.pkl','wb'))\n",
    "pickle.dump(dec_model,open('dec_model.pkl','wb'))\n",
    "\n",
    "\n",
    "log_model = pickle.load(open('log_model.pkl','rb'))\n",
    "dec_model = pickle.load(open('dec_model.pkl','rb'))\n",
    "\n",
    "def classify(num):\n",
    "    if num<0.5:\n",
    "        return'Setosa'\n",
    "    elif num <1.5:\n",
    "        return 'Versicolor'\n",
    "    else:\n",
    "        return 'virginica'\n",
    "\n",
    "def main():\n",
    "    st.title('Classify Species')\n",
    "    html_temp = \"\"\"\n",
    "    <div style = \"background-color:grey ;padding:10px\">\n",
    "    <h2 style = \"color:white;text-align:center;\"> Iris Classification</h2>\n",
    "    </div>\n",
    "    \"\"\"\n",
    "#Interface\n",
    "st.markdown('## Iris Species Prediction')\n",
    "sidebar = st.sidebar\n",
    "activities = ['Logistic Regression','Decision Tree']\n",
    "option= sidebar.selectbox(\"Which Model you want to use\",activities)\n",
    "st.subheader(option)\n",
    "st.spinner(\"WELCOME\")\n",
    "sepal_length = st.slider('Select Sepal length (cm)',0.0,10.0)\n",
    "sepal_width = st.slider('Select Sepal width (cm)',0.0,10.0)\n",
    "petal_length = st.slider('Select Petal length (cm)',0.0,10.0)\n",
    "petal_width = st.slider('Select Petal width (cm)',0.0,10.0)\n",
    "inputs = [[sepal_length,sepal_width,petal_length,petal_width]]\n",
    "\n",
    "#Predict button\n",
    "if st.button('Classify Iris Species'):\n",
    "    if option == 'Linear Regression':\n",
    "        st.success(classify((log_model.predict(inputs))))\n",
    "    else:\n",
    "        st.success(classify((dec_model.predict(inputs))))\n",
    "\n",
    "if __name__ == '__main__':\n",
    "    main()\n",
    "\n",
    "\n"
   ]
  },
  {
   "cell_type": "code",
   "execution_count": null,
   "id": "9dd47e29-1add-421f-a31d-bde8b5c563ec",
   "metadata": {},
   "outputs": [],
   "source": []
  }
 ],
 "metadata": {
  "kernelspec": {
   "display_name": "Python 3 (ipykernel)",
   "language": "python",
   "name": "python3"
  },
  "language_info": {
   "codemirror_mode": {
    "name": "ipython",
    "version": 3
   },
   "file_extension": ".py",
   "mimetype": "text/x-python",
   "name": "python",
   "nbconvert_exporter": "python",
   "pygments_lexer": "ipython3",
   "version": "3.11.5"
  }
 },
 "nbformat": 4,
 "nbformat_minor": 5
}
